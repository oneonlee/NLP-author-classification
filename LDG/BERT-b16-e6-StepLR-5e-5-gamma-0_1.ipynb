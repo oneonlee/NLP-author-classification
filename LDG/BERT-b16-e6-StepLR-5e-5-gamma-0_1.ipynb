{
 "cells": [
  {
   "cell_type": "markdown",
   "id": "6adeabec-06b7-49bc-b063-06fea88749cd",
   "metadata": {},
   "source": [
    "[대회링크](https://dacon.io/competitions/official/235670)"
   ]
  },
  {
   "cell_type": "code",
   "execution_count": 1,
   "id": "78a4fdd4-1105-4418-bf11-ab6062f7bee3",
   "metadata": {},
   "outputs": [
    {
     "name": "stderr",
     "output_type": "stream",
     "text": [
      "2023-05-11 01:09:12.207431: I tensorflow/core/platform/cpu_feature_guard.cc:193] This TensorFlow binary is optimized with oneAPI Deep Neural Network Library (oneDNN) to use the following CPU instructions in performance-critical operations:  AVX2 FMA\n",
      "To enable them in other operations, rebuild TensorFlow with the appropriate compiler flags.\n",
      "2023-05-11 01:09:13.267398: W tensorflow/compiler/xla/stream_executor/platform/default/dso_loader.cc:64] Could not load dynamic library 'libnvinfer.so.7'; dlerror: libnvinfer.so.7: cannot open shared object file: No such file or directory; LD_LIBRARY_PATH: /usr/local/nvidia/lib:/usr/local/nvidia/lib64\n",
      "2023-05-11 01:09:13.267491: W tensorflow/compiler/xla/stream_executor/platform/default/dso_loader.cc:64] Could not load dynamic library 'libnvinfer_plugin.so.7'; dlerror: libnvinfer_plugin.so.7: cannot open shared object file: No such file or directory; LD_LIBRARY_PATH: /usr/local/nvidia/lib:/usr/local/nvidia/lib64\n",
      "2023-05-11 01:09:13.267502: W tensorflow/compiler/tf2tensorrt/utils/py_utils.cc:38] TF-TRT Warning: Cannot dlopen some TensorRT libraries. If you would like to use Nvidia GPU with TensorRT, please make sure the missing libraries mentioned above are installed properly.\n"
     ]
    }
   ],
   "source": [
    "import os\n",
    "import numpy as np\n",
    "import pandas as pd\n",
    "import torch\n",
    "from torch.utils.data import TensorDataset, DataLoader, RandomSampler, SequentialSampler\n",
    "from transformers import BertTokenizer, BertForSequenceClassification, AdamW\n",
    "from sklearn.model_selection import train_test_split\n",
    "from sklearn.metrics import log_loss\n",
    "from tqdm import tqdm\n",
    "\n",
    "# Set environment variables for CUDA\n",
    "os.environ[\"CUDA_DEVICE_ORDER\"]=\"PCI_BUS_ID\"\n",
    "os.environ[\"CUDA_VISIBLE_DEVICES\"]=\"4\""
   ]
  },
  {
   "cell_type": "code",
   "execution_count": 2,
   "id": "50d03960-e275-45d7-b60b-a16554f2ac8c",
   "metadata": {},
   "outputs": [
    {
     "name": "stderr",
     "output_type": "stream",
     "text": [
      "Preprocessing training data: 100% 54879/54879 [01:37<00:00, 562.84it/s]\n"
     ]
    }
   ],
   "source": [
    "# Load data\n",
    "train_df = pd.read_csv(\"train.csv\")\n",
    "test_df = pd.read_csv(\"test_x.csv\")\n",
    "submission_df = pd.read_csv(\"sample_submission.csv\")\n",
    "\n",
    "# Preprocess text data\n",
    "train_text = train_df['text'].values\n",
    "train_labels = train_df['author'].values\n",
    "test_text = test_df['text'].values\n",
    "\n",
    "# Initialize the ALBERT tokenizer\n",
    "tokenizer = BertTokenizer.from_pretrained('bert-base-cased')\n",
    "\n",
    "# Tokenize the input text data using the ALBERT tokenizer\n",
    "input_ids = []\n",
    "attention_masks = []\n",
    "\n",
    "for text in tqdm(train_text, desc=\"Preprocessing training data\"):\n",
    "    encoded_dict = tokenizer.encode_plus(\n",
    "                        text,\n",
    "                        add_special_tokens = True,\n",
    "                        max_length = 512,\n",
    "                        padding='max_length',\n",
    "                        truncation=True,\n",
    "                        return_attention_mask = True,\n",
    "                        return_tensors = 'pt',\n",
    "                   )\n",
    "    input_ids.append(encoded_dict['input_ids'])\n",
    "    attention_masks.append(encoded_dict['attention_mask'])\n",
    "\n",
    "input_ids = torch.cat(input_ids, dim=0)\n",
    "attention_masks = torch.cat(attention_masks, dim=0)\n",
    "labels = torch.tensor(train_labels)\n",
    "\n",
    "# Split the preprocessed training data into training and validation sets\n",
    "train_inputs, validation_inputs, train_labels, validation_labels = \\\n",
    "    train_test_split(input_ids, train_labels, random_state=42, test_size=0.1, stratify=train_df['author'])\n",
    "train_masks, validation_masks, _, _ = \\\n",
    "    train_test_split(attention_masks, input_ids, random_state=42, test_size=0.1, stratify=train_df['author'])"
   ]
  },
  {
   "cell_type": "code",
   "execution_count": 3,
   "id": "36efa337-64af-4cb2-9180-7d53561158df",
   "metadata": {},
   "outputs": [
    {
     "name": "stderr",
     "output_type": "stream",
     "text": [
      "/tmp/ipykernel_26090/1544976022.py:8: UserWarning: To copy construct from a tensor, it is recommended to use sourceTensor.clone().detach() or sourceTensor.clone().detach().requires_grad_(True), rather than torch.tensor(sourceTensor).\n",
      "  train_inputs = torch.tensor(train_inputs)\n",
      "/tmp/ipykernel_26090/1544976022.py:9: UserWarning: To copy construct from a tensor, it is recommended to use sourceTensor.clone().detach() or sourceTensor.clone().detach().requires_grad_(True), rather than torch.tensor(sourceTensor).\n",
      "  train_masks = torch.tensor(train_masks)\n",
      "/tmp/ipykernel_26090/1544976022.py:12: UserWarning: To copy construct from a tensor, it is recommended to use sourceTensor.clone().detach() or sourceTensor.clone().detach().requires_grad_(True), rather than torch.tensor(sourceTensor).\n",
      "  validation_inputs = torch.tensor(validation_inputs)\n",
      "/tmp/ipykernel_26090/1544976022.py:13: UserWarning: To copy construct from a tensor, it is recommended to use sourceTensor.clone().detach() or sourceTensor.clone().detach().requires_grad_(True), rather than torch.tensor(sourceTensor).\n",
      "  validation_masks = torch.tensor(validation_masks)\n"
     ]
    }
   ],
   "source": [
    "# Set hyperparameters\n",
    "device = torch.device('cuda') if torch.cuda.is_available() else torch.device('cpu')\n",
    "batch_size = 16\n",
    "epochs = 6\n",
    "learning_rate = 5e-5\n",
    "\n",
    "# Convert inputs, masks, and labels to tensors\n",
    "train_inputs = torch.tensor(train_inputs)\n",
    "train_masks = torch.tensor(train_masks)\n",
    "train_labels = torch.tensor(train_labels)\n",
    "\n",
    "validation_inputs = torch.tensor(validation_inputs)\n",
    "validation_masks = torch.tensor(validation_masks)\n",
    "validation_labels = torch.tensor(validation_labels)"
   ]
  },
  {
   "cell_type": "code",
   "execution_count": 4,
   "id": "0f2a78f8-e7dc-4783-afe7-b34cc05de07f",
   "metadata": {},
   "outputs": [],
   "source": [
    "# Create a TensorDataset\n",
    "train_data = TensorDataset(train_inputs, train_masks, train_labels)\n",
    "# Create a DataLoader for training data\n",
    "train_sampler = RandomSampler(train_data)\n",
    "train_dataloader = DataLoader(train_data, sampler=train_sampler, batch_size=batch_size)\n",
    "\n",
    "# Create a TensorDataset for validation data\n",
    "validation_data = TensorDataset(validation_inputs, validation_masks, validation_labels)\n",
    "# Create a DataLoader for validation data\n",
    "validation_sampler = SequentialSampler(validation_data)\n",
    "validation_dataloader = DataLoader(validation_data, sampler=validation_sampler, batch_size=batch_size)"
   ]
  },
  {
   "cell_type": "code",
   "execution_count": 5,
   "id": "3c22847c-89db-4431-a3a8-c10f69610b6d",
   "metadata": {},
   "outputs": [
    {
     "name": "stderr",
     "output_type": "stream",
     "text": [
      "Some weights of the model checkpoint at bert-base-cased were not used when initializing BertForSequenceClassification: ['cls.predictions.transform.LayerNorm.weight', 'cls.predictions.decoder.weight', 'cls.seq_relationship.weight', 'cls.seq_relationship.bias', 'cls.predictions.transform.LayerNorm.bias', 'cls.predictions.transform.dense.weight', 'cls.predictions.bias', 'cls.predictions.transform.dense.bias']\n",
      "- This IS expected if you are initializing BertForSequenceClassification from the checkpoint of a model trained on another task or with another architecture (e.g. initializing a BertForSequenceClassification model from a BertForPreTraining model).\n",
      "- This IS NOT expected if you are initializing BertForSequenceClassification from the checkpoint of a model that you expect to be exactly identical (initializing a BertForSequenceClassification model from a BertForSequenceClassification model).\n",
      "Some weights of BertForSequenceClassification were not initialized from the model checkpoint at bert-base-cased and are newly initialized: ['classifier.bias', 'classifier.weight']\n",
      "You should probably TRAIN this model on a down-stream task to be able to use it for predictions and inference.\n",
      "/usr/local/lib/python3.8/dist-packages/transformers/optimization.py:306: FutureWarning: This implementation of AdamW is deprecated and will be removed in a future version. Use the PyTorch implementation torch.optim.AdamW instead, or set `no_deprecation_warning=True` to disable this warning\n",
      "  warnings.warn(\n"
     ]
    }
   ],
   "source": [
    "# Load model\n",
    "model = BertForSequenceClassification.from_pretrained('bert-base-cased', num_labels=5)\n",
    "model.to(device)\n",
    "\n",
    "# Set optimizer and learning rate scheduler\n",
    "optimizer = AdamW(model.parameters(), lr=learning_rate)\n",
    "scheduler = torch.optim.lr_scheduler.StepLR(optimizer, step_size=1, gamma=0.1)"
   ]
  },
  {
   "cell_type": "code",
   "execution_count": 6,
   "id": "9153a13e-cb16-473d-a2e6-b2bde04437cf",
   "metadata": {},
   "outputs": [
    {
     "name": "stderr",
     "output_type": "stream",
     "text": [
      "100% 3087/3087 [40:33<00:00,  1.27it/s]\n"
     ]
    },
    {
     "name": "stdout",
     "output_type": "stream",
     "text": [
      "Epoch 1/6, training loss: 0.6045623816384451\n"
     ]
    },
    {
     "name": "stderr",
     "output_type": "stream",
     "text": [
      "100% 343/343 [01:34<00:00,  3.62it/s]\n"
     ]
    },
    {
     "name": "stdout",
     "output_type": "stream",
     "text": [
      "Epoch 1/6, validation loss: 0.45027743483032845, validation log loss: 2.6829309918653936\n"
     ]
    },
    {
     "name": "stderr",
     "output_type": "stream",
     "text": [
      "100% 3087/3087 [41:05<00:00,  1.25it/s]\n"
     ]
    },
    {
     "name": "stdout",
     "output_type": "stream",
     "text": [
      "Epoch 2/6, training loss: 0.21614108708571578\n"
     ]
    },
    {
     "name": "stderr",
     "output_type": "stream",
     "text": [
      "100% 343/343 [01:34<00:00,  3.63it/s]\n"
     ]
    },
    {
     "name": "stdout",
     "output_type": "stream",
     "text": [
      "Epoch 2/6, validation loss: 0.3460464434149748, validation log loss: 0.650592850377776\n"
     ]
    },
    {
     "name": "stderr",
     "output_type": "stream",
     "text": [
      "100% 3087/3087 [41:03<00:00,  1.25it/s]\n"
     ]
    },
    {
     "name": "stdout",
     "output_type": "stream",
     "text": [
      "Epoch 3/6, training loss: 0.1363319568375984\n"
     ]
    },
    {
     "name": "stderr",
     "output_type": "stream",
     "text": [
      "100% 343/343 [01:34<00:00,  3.65it/s]\n"
     ]
    },
    {
     "name": "stdout",
     "output_type": "stream",
     "text": [
      "Epoch 3/6, validation loss: 0.372121501202171, validation log loss: 0.47617828549968344\n"
     ]
    },
    {
     "name": "stderr",
     "output_type": "stream",
     "text": [
      "100% 3087/3087 [41:05<00:00,  1.25it/s]\n"
     ]
    },
    {
     "name": "stdout",
     "output_type": "stream",
     "text": [
      "Epoch 4/6, training loss: 0.1264295335699918\n"
     ]
    },
    {
     "name": "stderr",
     "output_type": "stream",
     "text": [
      "100% 343/343 [01:34<00:00,  3.63it/s]\n"
     ]
    },
    {
     "name": "stdout",
     "output_type": "stream",
     "text": [
      "Epoch 4/6, validation loss: 0.3727781330391428, validation log loss: 0.47824795415122456\n"
     ]
    },
    {
     "name": "stderr",
     "output_type": "stream",
     "text": [
      "100% 3087/3087 [41:03<00:00,  1.25it/s]\n"
     ]
    },
    {
     "name": "stdout",
     "output_type": "stream",
     "text": [
      "Epoch 5/6, training loss: 0.12486336524308676\n"
     ]
    },
    {
     "name": "stderr",
     "output_type": "stream",
     "text": [
      "100% 343/343 [01:34<00:00,  3.63it/s]\n"
     ]
    },
    {
     "name": "stdout",
     "output_type": "stream",
     "text": [
      "Epoch 5/6, validation loss: 0.37277173144205233, validation log loss: 0.4779817892911771\n"
     ]
    },
    {
     "name": "stderr",
     "output_type": "stream",
     "text": [
      "100% 3087/3087 [41:03<00:00,  1.25it/s]\n"
     ]
    },
    {
     "name": "stdout",
     "output_type": "stream",
     "text": [
      "Epoch 6/6, training loss: 0.1248982445962738\n"
     ]
    },
    {
     "name": "stderr",
     "output_type": "stream",
     "text": [
      "100% 343/343 [01:34<00:00,  3.63it/s]"
     ]
    },
    {
     "name": "stdout",
     "output_type": "stream",
     "text": [
      "Epoch 6/6, validation loss: 0.3727719138271879, validation log loss: 0.47797693681228287\n"
     ]
    },
    {
     "name": "stderr",
     "output_type": "stream",
     "text": [
      "\n"
     ]
    }
   ],
   "source": [
    "for epoch in range(1, epochs+1):\n",
    "    model.train()\n",
    "    \n",
    "    train_loss = 0\n",
    "    for batch in tqdm(train_dataloader):\n",
    "        input_ids = batch[0].to(device=device)\n",
    "        attention_masks = batch[1].to(device=device)\n",
    "        labels = batch[2].to(device=device)\n",
    "        \n",
    "        optimizer.zero_grad()\n",
    "        \n",
    "        outputs = model(input_ids, attention_mask=attention_masks, labels=labels)\n",
    "        \n",
    "        loss = outputs[0]\n",
    "        logits = outputs[1]\n",
    "        train_loss += loss.item()\n",
    "\n",
    "        loss.backward()\n",
    "        optimizer.step()\n",
    "    scheduler.step()\n",
    "\n",
    "    avg_train_loss = train_loss / len(train_dataloader)\n",
    "    print(f'Epoch {epoch}/{epochs}, training loss: {avg_train_loss}')\n",
    "\n",
    "    model.eval()\n",
    "    \n",
    "    validation_loss = 0\n",
    "    for batch in tqdm(validation_dataloader):\n",
    "        input_ids = batch[0].to(device=device)\n",
    "        attention_masks = batch[1].to(device=device)\n",
    "        labels = batch[2].to(device=device)\n",
    "\n",
    "        with torch.no_grad():\n",
    "            outputs = model(input_ids, attention_mask=attention_masks, labels=labels)\n",
    "            loss = outputs[0]\n",
    "            logits = outputs[1]\n",
    "            validation_loss += loss.item()\n",
    "        \n",
    "    avg_val_loss = validation_loss / len(validation_dataloader)\n",
    "    val_log_loss = log_loss(labels.cpu(), logits.cpu())\n",
    "    print(f'Epoch {epoch}/{epochs}, validation loss: {avg_val_loss}, validation log loss: {val_log_loss}')\n"
   ]
  },
  {
   "cell_type": "code",
   "execution_count": 7,
   "id": "d256f579-e724-4fc7-be4d-bf5286751a68",
   "metadata": {},
   "outputs": [],
   "source": [
    "model.save_pretrained('bert-classifier')"
   ]
  },
  {
   "cell_type": "code",
   "execution_count": 8,
   "id": "6873e330-5ba8-4315-8275-16fb80079ae8",
   "metadata": {},
   "outputs": [
    {
     "name": "stderr",
     "output_type": "stream",
     "text": [
      "Preprocessing test data: 100% 19617/19617 [01:03<00:00, 307.57it/s]\n"
     ]
    }
   ],
   "source": [
    "# Preprocess the test data\n",
    "test_text = test_df['text'].values\n",
    "\n",
    "# Tokenize the input text data using the BERT tokenizer\n",
    "input_ids = []\n",
    "attention_masks = []\n",
    "\n",
    "for text in tqdm(test_text, desc=\"Preprocessing test data\"):\n",
    "    encoded_dict = tokenizer.encode_plus(\n",
    "                        text,\n",
    "                        add_special_tokens = True,\n",
    "                        max_length = 512,\n",
    "                        padding='max_length',\n",
    "                        truncation=True,\n",
    "                        return_attention_mask = True,\n",
    "                        return_tensors = 'pt',\n",
    "                   )\n",
    "    input_ids.append(encoded_dict['input_ids'])\n",
    "    attention_masks.append(encoded_dict['attention_mask'])\n",
    "\n",
    "input_ids = torch.cat(input_ids, dim=0)\n",
    "attention_masks = torch.cat(attention_masks, dim=0)\n",
    "\n",
    "# Set up the data loader for test data\n",
    "test_data = TensorDataset(input_ids, attention_masks)\n",
    "test_sampler = SequentialSampler(test_data)\n",
    "test_dataloader = DataLoader(test_data, sampler=test_sampler, batch_size=batch_size)"
   ]
  },
  {
   "cell_type": "code",
   "execution_count": 9,
   "id": "c60301f0-21cf-4732-a982-b117a104127d",
   "metadata": {},
   "outputs": [
    {
     "name": "stderr",
     "output_type": "stream",
     "text": [
      "Making predictions: 100% 1227/1227 [05:34<00:00,  3.67it/s]\n"
     ]
    }
   ],
   "source": [
    "# Make predictions\n",
    "model.eval()\n",
    "test_preds = []\n",
    "\n",
    "for batch in tqdm(test_dataloader, desc=\"Making predictions\"):\n",
    "    input_ids = batch[0].to(device)\n",
    "    attention_masks = batch[1].to(device)\n",
    "\n",
    "    # Truncate the input sequences that are longer than 512 tokens\n",
    "    if input_ids.shape[1] > 512:\n",
    "        input_ids = input_ids[:, :512]\n",
    "        attention_masks = attention_masks[:, :512]\n",
    "\n",
    "    with torch.no_grad():\n",
    "        outputs = model(input_ids, attention_mask=attention_masks)\n",
    "\n",
    "    logits = outputs[0]\n",
    "    logits = logits.detach().cpu().numpy()\n",
    "\n",
    "    test_preds.append(logits)"
   ]
  },
  {
   "cell_type": "code",
   "execution_count": 10,
   "id": "f326cf2e-2957-4442-8264-474e508b06ec",
   "metadata": {},
   "outputs": [],
   "source": [
    "test_preds = np.concatenate(test_preds, axis=0)\n",
    "\n",
    "# Create submission file\n",
    "submission_df[['0', '1', '2', '3', '4']] = test_preds\n",
    "submission_df.to_csv('BERT-b16-e6-StepLR-5e-5-gamma-0_1.csv', index=False)"
   ]
  },
  {
   "cell_type": "code",
   "execution_count": null,
   "id": "402fde6b-eab4-4478-9239-de631e787eb1",
   "metadata": {},
   "outputs": [],
   "source": []
  }
 ],
 "metadata": {
  "kernelspec": {
   "display_name": "Python 3 (ipykernel)",
   "language": "python",
   "name": "python3"
  },
  "language_info": {
   "codemirror_mode": {
    "name": "ipython",
    "version": 3
   },
   "file_extension": ".py",
   "mimetype": "text/x-python",
   "name": "python",
   "nbconvert_exporter": "python",
   "pygments_lexer": "ipython3",
   "version": "3.8.10"
  }
 },
 "nbformat": 4,
 "nbformat_minor": 5
}
